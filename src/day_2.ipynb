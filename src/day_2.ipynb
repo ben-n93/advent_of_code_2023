{
 "cells": [
  {
   "cell_type": "code",
   "execution_count": 108,
   "id": "a82ecafe",
   "metadata": {},
   "outputs": [],
   "source": [
    "import re\n",
    "import csv"
   ]
  },
  {
   "cell_type": "code",
   "execution_count": 109,
   "id": "0e99c7ea",
   "metadata": {},
   "outputs": [],
   "source": [
    "# Parsing day 2 puzzle input.\n",
    "COLOURS = ['red', 'green', 'blue']\n",
    "games = {}\n",
    "with open('input.txt') as f:\n",
    "    lines = f.readlines()\n",
    "    sets = {}\n",
    "    for game in lines:\n",
    "        game_number = re.search('.*:', game)\n",
    "        game_number = game_number.group()\n",
    "        length = len(game_number)\n",
    "        start_position = length - 3\n",
    "        game_number = game_number[start_position:-1]\n",
    "        if game_number == '00':\n",
    "            game_number = 100\n",
    "        game_sets = game[8:]\n",
    "        game_sets = game_sets.split(';')\n",
    "        game_sets_cleaned = []\n",
    "        for game_set in game_sets:\n",
    "            temp = {}\n",
    "            for colour in COLOURS:\n",
    "                try:\n",
    "                    position = game_set.index(colour)\n",
    "                    start_position = position - 3\n",
    "                    if start_position == -1:\n",
    "                        start_position = 0\n",
    "                    number_of_cubes = game_set[start_position:position]\n",
    "                    temp[colour] = number_of_cubes.strip()\n",
    "                except ValueError:\n",
    "                    temp[colour] = 0\n",
    "            game_sets_cleaned.append(temp)\n",
    "        games[game_number] = game_sets_cleaned\n"
   ]
  },
  {
   "cell_type": "code",
   "execution_count": 115,
   "id": "ce31edb7",
   "metadata": {},
   "outputs": [],
   "source": [
    "# Adding a game set if there is a missing game set.\n",
    "games_cleaned = {}\n",
    "for game, game_sets in games.items():\n",
    "    new_game_sets = []\n",
    "    if len(game_sets) < 6:\n",
    "        difference = 6 - len(game_sets)\n",
    "        for number in range(0, difference):\n",
    "            new_game_sets.append({'red':0, 'green':0, 'blue':0})\n",
    "        for number in range(0, len(game_sets)):\n",
    "            try:\n",
    "                new_game_sets.append((game_sets[number]))\n",
    "            except KeyError:\n",
    "                pass\n",
    "    else:\n",
    "        for game_set in game_sets:\n",
    "            new_game_sets.append(game_set)\n",
    "    games_cleaned[game] = new_game_sets"
   ]
  },
  {
   "cell_type": "code",
   "execution_count": 113,
   "id": "384856cf",
   "metadata": {},
   "outputs": [],
   "source": [
    "# Writing cleaned data to CSV.\n",
    "with open ('output.csv', 'w', newline='') as f:\n",
    "    writer = csv.DictWriter(f, fieldnames = ['game', 'red_cubes', 'green_cubes', 'blue_cubes'])\n",
    "    writer.writeheader()\n",
    "    for game, game_sets in games_cleaned.items():\n",
    "        for game_set in game_sets:\n",
    "            writer.writerow({\"game\":game, 'red_cubes':game_set.get('red'), 'green_cubes':game_set.get('green'), 'blue_cubes':\n",
    "                            game_set.get('blue')})"
   ]
  },
  {
   "cell_type": "code",
   "execution_count": null,
   "id": "f3f0a04e",
   "metadata": {},
   "outputs": [],
   "source": []
  }
 ],
 "metadata": {
  "kernelspec": {
   "display_name": "Python 3 (ipykernel)",
   "language": "python",
   "name": "python3"
  },
  "language_info": {
   "codemirror_mode": {
    "name": "ipython",
    "version": 3
   },
   "file_extension": ".py",
   "mimetype": "text/x-python",
   "name": "python",
   "nbconvert_exporter": "python",
   "pygments_lexer": "ipython3",
   "version": "3.9.7"
  }
 },
 "nbformat": 4,
 "nbformat_minor": 5
}
